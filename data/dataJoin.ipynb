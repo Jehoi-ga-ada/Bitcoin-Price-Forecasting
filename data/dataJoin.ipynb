{
 "cells": [
  {
   "cell_type": "markdown",
   "metadata": {},
   "source": [
    "# Imports"
   ]
  },
  {
   "cell_type": "code",
   "execution_count": 28,
   "metadata": {},
   "outputs": [],
   "source": [
    "import pandas as pd"
   ]
  },
  {
   "cell_type": "markdown",
   "metadata": {},
   "source": [
    "# Dataset"
   ]
  },
  {
   "cell_type": "code",
   "execution_count": 29,
   "metadata": {},
   "outputs": [],
   "source": [
    "btc_hist = pd.read_csv('btc_hist.csv')\n",
    "fng_hist = pd.read_csv('fng_hist.csv')"
   ]
  },
  {
   "cell_type": "markdown",
   "metadata": {},
   "source": [
    "# Joining"
   ]
  },
  {
   "cell_type": "code",
   "execution_count": 30,
   "metadata": {},
   "outputs": [
    {
     "data": {
      "text/plain": [
       "('2014-09-17', '2024-05-20')"
      ]
     },
     "execution_count": 30,
     "metadata": {},
     "output_type": "execute_result"
    }
   ],
   "source": [
    "btc_hist['Date'].min(), btc_hist['Date'].max()"
   ]
  },
  {
   "cell_type": "code",
   "execution_count": 31,
   "metadata": {},
   "outputs": [
    {
     "data": {
      "text/plain": [
       "('2018-02-01', '2024-05-20')"
      ]
     },
     "execution_count": 31,
     "metadata": {},
     "output_type": "execute_result"
    }
   ],
   "source": [
    "fng_hist['Date'].min(), fng_hist['Date'].max()"
   ]
  },
  {
   "cell_type": "code",
   "execution_count": 32,
   "metadata": {},
   "outputs": [
    {
     "data": {
      "text/plain": [
       "('2018-02-01', '2024-05-20')"
      ]
     },
     "execution_count": 32,
     "metadata": {},
     "output_type": "execute_result"
    }
   ],
   "source": [
    "joined_data = pd.merge(btc_hist, fng_hist)\n",
    "joined_data['Date'].min(), joined_data['Date'].max()"
   ]
  },
  {
   "cell_type": "code",
   "execution_count": 33,
   "metadata": {},
   "outputs": [
    {
     "data": {
      "text/html": [
       "<div>\n",
       "<style scoped>\n",
       "    .dataframe tbody tr th:only-of-type {\n",
       "        vertical-align: middle;\n",
       "    }\n",
       "\n",
       "    .dataframe tbody tr th {\n",
       "        vertical-align: top;\n",
       "    }\n",
       "\n",
       "    .dataframe thead th {\n",
       "        text-align: right;\n",
       "    }\n",
       "</style>\n",
       "<table border=\"1\" class=\"dataframe\">\n",
       "  <thead>\n",
       "    <tr style=\"text-align: right;\">\n",
       "      <th></th>\n",
       "      <th>Date</th>\n",
       "      <th>Open</th>\n",
       "      <th>High</th>\n",
       "      <th>Low</th>\n",
       "      <th>Close</th>\n",
       "      <th>Volume</th>\n",
       "      <th>value</th>\n",
       "      <th>value_classification</th>\n",
       "    </tr>\n",
       "  </thead>\n",
       "  <tbody>\n",
       "    <tr>\n",
       "      <th>0</th>\n",
       "      <td>2018-02-01</td>\n",
       "      <td>10237.299805</td>\n",
       "      <td>10288.799805</td>\n",
       "      <td>8812.280273</td>\n",
       "      <td>9170.540039</td>\n",
       "      <td>9959400448</td>\n",
       "      <td>30</td>\n",
       "      <td>Fear</td>\n",
       "    </tr>\n",
       "    <tr>\n",
       "      <th>1</th>\n",
       "      <td>2018-02-02</td>\n",
       "      <td>9142.280273</td>\n",
       "      <td>9142.280273</td>\n",
       "      <td>7796.490234</td>\n",
       "      <td>8830.750000</td>\n",
       "      <td>12726899712</td>\n",
       "      <td>15</td>\n",
       "      <td>Extreme Fear</td>\n",
       "    </tr>\n",
       "    <tr>\n",
       "      <th>2</th>\n",
       "      <td>2018-02-03</td>\n",
       "      <td>8852.120117</td>\n",
       "      <td>9430.750000</td>\n",
       "      <td>8251.629883</td>\n",
       "      <td>9174.910156</td>\n",
       "      <td>7263790080</td>\n",
       "      <td>40</td>\n",
       "      <td>Fear</td>\n",
       "    </tr>\n",
       "    <tr>\n",
       "      <th>3</th>\n",
       "      <td>2018-02-04</td>\n",
       "      <td>9175.700195</td>\n",
       "      <td>9334.870117</td>\n",
       "      <td>8031.220215</td>\n",
       "      <td>8277.009766</td>\n",
       "      <td>7073549824</td>\n",
       "      <td>24</td>\n",
       "      <td>Extreme Fear</td>\n",
       "    </tr>\n",
       "    <tr>\n",
       "      <th>4</th>\n",
       "      <td>2018-02-05</td>\n",
       "      <td>8270.540039</td>\n",
       "      <td>8364.839844</td>\n",
       "      <td>6756.680176</td>\n",
       "      <td>6955.270020</td>\n",
       "      <td>9285289984</td>\n",
       "      <td>11</td>\n",
       "      <td>Extreme Fear</td>\n",
       "    </tr>\n",
       "    <tr>\n",
       "      <th>...</th>\n",
       "      <td>...</td>\n",
       "      <td>...</td>\n",
       "      <td>...</td>\n",
       "      <td>...</td>\n",
       "      <td>...</td>\n",
       "      <td>...</td>\n",
       "      <td>...</td>\n",
       "      <td>...</td>\n",
       "    </tr>\n",
       "    <tr>\n",
       "      <th>2293</th>\n",
       "      <td>2024-05-16</td>\n",
       "      <td>66256.109375</td>\n",
       "      <td>66712.429688</td>\n",
       "      <td>64613.054688</td>\n",
       "      <td>65231.582031</td>\n",
       "      <td>31573077994</td>\n",
       "      <td>70</td>\n",
       "      <td>Greed</td>\n",
       "    </tr>\n",
       "    <tr>\n",
       "      <th>2294</th>\n",
       "      <td>2024-05-17</td>\n",
       "      <td>65231.296875</td>\n",
       "      <td>67459.460938</td>\n",
       "      <td>65119.316406</td>\n",
       "      <td>67051.875000</td>\n",
       "      <td>28031279310</td>\n",
       "      <td>74</td>\n",
       "      <td>Greed</td>\n",
       "    </tr>\n",
       "    <tr>\n",
       "      <th>2295</th>\n",
       "      <td>2024-05-18</td>\n",
       "      <td>67066.210938</td>\n",
       "      <td>67387.328125</td>\n",
       "      <td>66663.500000</td>\n",
       "      <td>66940.804688</td>\n",
       "      <td>16712277406</td>\n",
       "      <td>73</td>\n",
       "      <td>Greed</td>\n",
       "    </tr>\n",
       "    <tr>\n",
       "      <th>2296</th>\n",
       "      <td>2024-05-19</td>\n",
       "      <td>66937.929688</td>\n",
       "      <td>67694.296875</td>\n",
       "      <td>65937.179688</td>\n",
       "      <td>66278.367188</td>\n",
       "      <td>19249094538</td>\n",
       "      <td>72</td>\n",
       "      <td>Greed</td>\n",
       "    </tr>\n",
       "    <tr>\n",
       "      <th>2297</th>\n",
       "      <td>2024-05-20</td>\n",
       "      <td>66277.656250</td>\n",
       "      <td>67818.320312</td>\n",
       "      <td>66144.617188</td>\n",
       "      <td>67721.140625</td>\n",
       "      <td>25235793920</td>\n",
       "      <td>70</td>\n",
       "      <td>Greed</td>\n",
       "    </tr>\n",
       "  </tbody>\n",
       "</table>\n",
       "<p>2298 rows × 8 columns</p>\n",
       "</div>"
      ],
      "text/plain": [
       "            Date          Open          High           Low         Close  \\\n",
       "0     2018-02-01  10237.299805  10288.799805   8812.280273   9170.540039   \n",
       "1     2018-02-02   9142.280273   9142.280273   7796.490234   8830.750000   \n",
       "2     2018-02-03   8852.120117   9430.750000   8251.629883   9174.910156   \n",
       "3     2018-02-04   9175.700195   9334.870117   8031.220215   8277.009766   \n",
       "4     2018-02-05   8270.540039   8364.839844   6756.680176   6955.270020   \n",
       "...          ...           ...           ...           ...           ...   \n",
       "2293  2024-05-16  66256.109375  66712.429688  64613.054688  65231.582031   \n",
       "2294  2024-05-17  65231.296875  67459.460938  65119.316406  67051.875000   \n",
       "2295  2024-05-18  67066.210938  67387.328125  66663.500000  66940.804688   \n",
       "2296  2024-05-19  66937.929688  67694.296875  65937.179688  66278.367188   \n",
       "2297  2024-05-20  66277.656250  67818.320312  66144.617188  67721.140625   \n",
       "\n",
       "           Volume  value value_classification  \n",
       "0      9959400448     30                 Fear  \n",
       "1     12726899712     15         Extreme Fear  \n",
       "2      7263790080     40                 Fear  \n",
       "3      7073549824     24         Extreme Fear  \n",
       "4      9285289984     11         Extreme Fear  \n",
       "...           ...    ...                  ...  \n",
       "2293  31573077994     70                Greed  \n",
       "2294  28031279310     74                Greed  \n",
       "2295  16712277406     73                Greed  \n",
       "2296  19249094538     72                Greed  \n",
       "2297  25235793920     70                Greed  \n",
       "\n",
       "[2298 rows x 8 columns]"
      ]
     },
     "execution_count": 33,
     "metadata": {},
     "output_type": "execute_result"
    }
   ],
   "source": [
    "joined_data"
   ]
  },
  {
   "cell_type": "markdown",
   "metadata": {},
   "source": [
    "# Exporting"
   ]
  },
  {
   "cell_type": "code",
   "execution_count": 34,
   "metadata": {},
   "outputs": [],
   "source": [
    "joined_data.to_csv('dataset.csv', index=False)"
   ]
  }
 ],
 "metadata": {
  "kernelspec": {
   "display_name": "machine_learning",
   "language": "python",
   "name": "python3"
  },
  "language_info": {
   "codemirror_mode": {
    "name": "ipython",
    "version": 3
   },
   "file_extension": ".py",
   "mimetype": "text/x-python",
   "name": "python",
   "nbconvert_exporter": "python",
   "pygments_lexer": "ipython3",
   "version": "3.12.3"
  }
 },
 "nbformat": 4,
 "nbformat_minor": 2
}
