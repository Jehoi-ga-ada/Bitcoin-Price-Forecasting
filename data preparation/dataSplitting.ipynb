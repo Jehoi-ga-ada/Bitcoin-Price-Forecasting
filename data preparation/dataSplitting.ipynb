{
 "cells": [
  {
   "cell_type": "code",
   "execution_count": 1,
   "metadata": {},
   "outputs": [],
   "source": [
    "import pandas as pd"
   ]
  },
  {
   "cell_type": "code",
   "execution_count": 2,
   "metadata": {},
   "outputs": [
    {
     "data": {
      "text/html": [
       "<div>\n",
       "<style scoped>\n",
       "    .dataframe tbody tr th:only-of-type {\n",
       "        vertical-align: middle;\n",
       "    }\n",
       "\n",
       "    .dataframe tbody tr th {\n",
       "        vertical-align: top;\n",
       "    }\n",
       "\n",
       "    .dataframe thead th {\n",
       "        text-align: right;\n",
       "    }\n",
       "</style>\n",
       "<table border=\"1\" class=\"dataframe\">\n",
       "  <thead>\n",
       "    <tr style=\"text-align: right;\">\n",
       "      <th></th>\n",
       "      <th>Date</th>\n",
       "      <th>Open</th>\n",
       "      <th>High</th>\n",
       "      <th>Low</th>\n",
       "      <th>Volume</th>\n",
       "      <th>Close + 7</th>\n",
       "      <th>Close + 8</th>\n",
       "      <th>Close + 9</th>\n",
       "      <th>Close + 10</th>\n",
       "      <th>Close + 11</th>\n",
       "      <th>...</th>\n",
       "      <th>%D</th>\n",
       "      <th>value</th>\n",
       "      <th>value_classification</th>\n",
       "      <th>Close + 6</th>\n",
       "      <th>Close + 5</th>\n",
       "      <th>Close + 4</th>\n",
       "      <th>Close + 3</th>\n",
       "      <th>Close + 2</th>\n",
       "      <th>Close + 1</th>\n",
       "      <th>Close</th>\n",
       "    </tr>\n",
       "  </thead>\n",
       "  <tbody>\n",
       "    <tr>\n",
       "      <th>0</th>\n",
       "      <td>2018-02-01</td>\n",
       "      <td>10237.299805</td>\n",
       "      <td>10288.799805</td>\n",
       "      <td>8812.280273</td>\n",
       "      <td>9959400448</td>\n",
       "      <td>11259.400391</td>\n",
       "      <td>11359.400391</td>\n",
       "      <td>10868.400391</td>\n",
       "      <td>10931.400391</td>\n",
       "      <td>11600.099609</td>\n",
       "      <td>...</td>\n",
       "      <td>2.277774</td>\n",
       "      <td>30</td>\n",
       "      <td>1</td>\n",
       "      <td>11171.400391</td>\n",
       "      <td>11440.700195</td>\n",
       "      <td>11786.299805</td>\n",
       "      <td>11296.400391</td>\n",
       "      <td>10106.299805</td>\n",
       "      <td>10221.099609</td>\n",
       "      <td>9170.540039</td>\n",
       "    </tr>\n",
       "    <tr>\n",
       "      <th>1</th>\n",
       "      <td>2018-02-02</td>\n",
       "      <td>9142.280273</td>\n",
       "      <td>9142.280273</td>\n",
       "      <td>7796.490234</td>\n",
       "      <td>12726899712</td>\n",
       "      <td>11171.400391</td>\n",
       "      <td>11259.400391</td>\n",
       "      <td>11359.400391</td>\n",
       "      <td>10868.400391</td>\n",
       "      <td>10931.400391</td>\n",
       "      <td>...</td>\n",
       "      <td>2.277774</td>\n",
       "      <td>15</td>\n",
       "      <td>2</td>\n",
       "      <td>11440.700195</td>\n",
       "      <td>11786.299805</td>\n",
       "      <td>11296.400391</td>\n",
       "      <td>10106.299805</td>\n",
       "      <td>10221.099609</td>\n",
       "      <td>9170.540039</td>\n",
       "      <td>8830.750000</td>\n",
       "    </tr>\n",
       "    <tr>\n",
       "      <th>2</th>\n",
       "      <td>2018-02-03</td>\n",
       "      <td>8852.120117</td>\n",
       "      <td>9430.750000</td>\n",
       "      <td>8251.629883</td>\n",
       "      <td>7263790080</td>\n",
       "      <td>11440.700195</td>\n",
       "      <td>11171.400391</td>\n",
       "      <td>11259.400391</td>\n",
       "      <td>11359.400391</td>\n",
       "      <td>10868.400391</td>\n",
       "      <td>...</td>\n",
       "      <td>8.251166</td>\n",
       "      <td>40</td>\n",
       "      <td>1</td>\n",
       "      <td>11786.299805</td>\n",
       "      <td>11296.400391</td>\n",
       "      <td>10106.299805</td>\n",
       "      <td>10221.099609</td>\n",
       "      <td>9170.540039</td>\n",
       "      <td>8830.750000</td>\n",
       "      <td>9174.910156</td>\n",
       "    </tr>\n",
       "  </tbody>\n",
       "</table>\n",
       "<p>3 rows × 50 columns</p>\n",
       "</div>"
      ],
      "text/plain": [
       "         Date          Open          High          Low       Volume  \\\n",
       "0  2018-02-01  10237.299805  10288.799805  8812.280273   9959400448   \n",
       "1  2018-02-02   9142.280273   9142.280273  7796.490234  12726899712   \n",
       "2  2018-02-03   8852.120117   9430.750000  8251.629883   7263790080   \n",
       "\n",
       "      Close + 7     Close + 8     Close + 9    Close + 10    Close + 11  ...  \\\n",
       "0  11259.400391  11359.400391  10868.400391  10931.400391  11600.099609  ...   \n",
       "1  11171.400391  11259.400391  11359.400391  10868.400391  10931.400391  ...   \n",
       "2  11440.700195  11171.400391  11259.400391  11359.400391  10868.400391  ...   \n",
       "\n",
       "         %D  value  value_classification     Close + 6     Close + 5  \\\n",
       "0  2.277774     30                     1  11171.400391  11440.700195   \n",
       "1  2.277774     15                     2  11440.700195  11786.299805   \n",
       "2  8.251166     40                     1  11786.299805  11296.400391   \n",
       "\n",
       "      Close + 4     Close + 3     Close + 2     Close + 1        Close  \n",
       "0  11786.299805  11296.400391  10106.299805  10221.099609  9170.540039  \n",
       "1  11296.400391  10106.299805  10221.099609   9170.540039  8830.750000  \n",
       "2  10106.299805  10221.099609   9170.540039   8830.750000  9174.910156  \n",
       "\n",
       "[3 rows x 50 columns]"
      ]
     },
     "execution_count": 2,
     "metadata": {},
     "output_type": "execute_result"
    }
   ],
   "source": [
    "df = pd.read_csv('../data/dataset.csv')\n",
    "df.head(3)"
   ]
  },
  {
   "cell_type": "markdown",
   "metadata": {},
   "source": [
    "# Splitting data for train, valid, test"
   ]
  },
  {
   "cell_type": "code",
   "execution_count": 3,
   "metadata": {},
   "outputs": [],
   "source": [
    "train_split = int(0.6 * len(df))\n",
    "valid_split = train_split + int(0.2 * len(df))\n",
    "\n",
    "train_df = df.iloc[:train_split]\n",
    "valid_df = df.iloc[train_split:valid_split]\n",
    "test_df = df.iloc[valid_split:]"
   ]
  },
  {
   "cell_type": "code",
   "execution_count": 4,
   "metadata": {},
   "outputs": [
    {
     "data": {
      "text/plain": [
       "2298"
      ]
     },
     "execution_count": 4,
     "metadata": {},
     "output_type": "execute_result"
    }
   ],
   "source": [
    "len(train_df) + len(valid_df) + len(test_df)"
   ]
  },
  {
   "cell_type": "markdown",
   "metadata": {},
   "source": [
    "# Exporting data"
   ]
  },
  {
   "cell_type": "code",
   "execution_count": 5,
   "metadata": {},
   "outputs": [],
   "source": [
    "train_df.to_csv('../data/train_dataset.csv', index=False)\n",
    "valid_df.to_csv('../data/valid_dataset.csv', index=False)\n",
    "test_df.to_csv('../data/test_dataset.csv', index=False)"
   ]
  }
 ],
 "metadata": {
  "kernelspec": {
   "display_name": "machine_learning",
   "language": "python",
   "name": "python3"
  },
  "language_info": {
   "codemirror_mode": {
    "name": "ipython",
    "version": 3
   },
   "file_extension": ".py",
   "mimetype": "text/x-python",
   "name": "python",
   "nbconvert_exporter": "python",
   "pygments_lexer": "ipython3",
   "version": "3.12.3"
  }
 },
 "nbformat": 4,
 "nbformat_minor": 2
}
