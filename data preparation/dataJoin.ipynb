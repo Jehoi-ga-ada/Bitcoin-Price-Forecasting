{
 "cells": [
  {
   "cell_type": "markdown",
   "metadata": {},
   "source": [
    "# Imports"
   ]
  },
  {
   "cell_type": "code",
   "execution_count": 18,
   "metadata": {},
   "outputs": [],
   "source": [
    "import pandas as pd"
   ]
  },
  {
   "cell_type": "markdown",
   "metadata": {},
   "source": [
    "# Dataset"
   ]
  },
  {
   "cell_type": "code",
   "execution_count": 19,
   "metadata": {},
   "outputs": [],
   "source": [
    "btc_hist = pd.read_csv('../data/btc_hist_processed.csv')\n",
    "fng_hist = pd.read_csv('../data/fng_hist_processed.csv')"
   ]
  },
  {
   "cell_type": "markdown",
   "metadata": {},
   "source": [
    "# Joining"
   ]
  },
  {
   "cell_type": "code",
   "execution_count": 20,
   "metadata": {},
   "outputs": [
    {
     "data": {
      "text/plain": [
       "('2014-10-24', '2024-05-20')"
      ]
     },
     "execution_count": 20,
     "metadata": {},
     "output_type": "execute_result"
    }
   ],
   "source": [
    "btc_hist['Date'].min(), btc_hist['Date'].max()"
   ]
  },
  {
   "cell_type": "code",
   "execution_count": 21,
   "metadata": {},
   "outputs": [
    {
     "data": {
      "text/plain": [
       "('2018-02-01', '2024-05-20')"
      ]
     },
     "execution_count": 21,
     "metadata": {},
     "output_type": "execute_result"
    }
   ],
   "source": [
    "fng_hist['Date'].min(), fng_hist['Date'].max()"
   ]
  },
  {
   "cell_type": "code",
   "execution_count": 22,
   "metadata": {},
   "outputs": [
    {
     "data": {
      "text/plain": [
       "('2018-02-01', '2024-05-20')"
      ]
     },
     "execution_count": 22,
     "metadata": {},
     "output_type": "execute_result"
    }
   ],
   "source": [
    "joined_data = pd.merge(btc_hist, fng_hist)\n",
    "joined_data['Date'].min(), joined_data['Date'].max()"
   ]
  },
  {
   "cell_type": "code",
   "execution_count": 23,
   "metadata": {},
   "outputs": [
    {
     "data": {
      "text/html": [
       "<div>\n",
       "<style scoped>\n",
       "    .dataframe tbody tr th:only-of-type {\n",
       "        vertical-align: middle;\n",
       "    }\n",
       "\n",
       "    .dataframe tbody tr th {\n",
       "        vertical-align: top;\n",
       "    }\n",
       "\n",
       "    .dataframe thead th {\n",
       "        text-align: right;\n",
       "    }\n",
       "</style>\n",
       "<table border=\"1\" class=\"dataframe\">\n",
       "  <thead>\n",
       "    <tr style=\"text-align: right;\">\n",
       "      <th></th>\n",
       "      <th>Date</th>\n",
       "      <th>Open</th>\n",
       "      <th>High</th>\n",
       "      <th>Low</th>\n",
       "      <th>Close</th>\n",
       "      <th>Volume</th>\n",
       "      <th>Close + 1</th>\n",
       "      <th>Close + 2</th>\n",
       "      <th>Close + 3</th>\n",
       "      <th>Close + 4</th>\n",
       "      <th>...</th>\n",
       "      <th>Close + 35</th>\n",
       "      <th>Close + 36</th>\n",
       "      <th>Close + 37</th>\n",
       "      <th>MA_13</th>\n",
       "      <th>MA_21</th>\n",
       "      <th>RSI_3</th>\n",
       "      <th>%K</th>\n",
       "      <th>%D</th>\n",
       "      <th>value</th>\n",
       "      <th>value_classification</th>\n",
       "    </tr>\n",
       "  </thead>\n",
       "  <tbody>\n",
       "    <tr>\n",
       "      <th>0</th>\n",
       "      <td>2018-02-01</td>\n",
       "      <td>10237.299805</td>\n",
       "      <td>10288.799805</td>\n",
       "      <td>8812.280273</td>\n",
       "      <td>9170.540039</td>\n",
       "      <td>9959400448</td>\n",
       "      <td>10221.099609</td>\n",
       "      <td>10106.299805</td>\n",
       "      <td>11296.400391</td>\n",
       "      <td>11786.299805</td>\n",
       "      <td>...</td>\n",
       "      <td>14606.500000</td>\n",
       "      <td>15838.500000</td>\n",
       "      <td>16099.799805</td>\n",
       "      <td>11085.433969</td>\n",
       "      <td>11704.982933</td>\n",
       "      <td>4.873774</td>\n",
       "      <td>0.000000</td>\n",
       "      <td>2.277774</td>\n",
       "      <td>30</td>\n",
       "      <td>1</td>\n",
       "    </tr>\n",
       "    <tr>\n",
       "      <th>1</th>\n",
       "      <td>2018-02-02</td>\n",
       "      <td>9142.280273</td>\n",
       "      <td>9142.280273</td>\n",
       "      <td>7796.490234</td>\n",
       "      <td>8830.750000</td>\n",
       "      <td>12726899712</td>\n",
       "      <td>9170.540039</td>\n",
       "      <td>10221.099609</td>\n",
       "      <td>10106.299805</td>\n",
       "      <td>11296.400391</td>\n",
       "      <td>...</td>\n",
       "      <td>14656.200195</td>\n",
       "      <td>14606.500000</td>\n",
       "      <td>15838.500000</td>\n",
       "      <td>10772.476262</td>\n",
       "      <td>11459.752000</td>\n",
       "      <td>7.627137</td>\n",
       "      <td>0.000000</td>\n",
       "      <td>2.277774</td>\n",
       "      <td>15</td>\n",
       "      <td>2</td>\n",
       "    </tr>\n",
       "    <tr>\n",
       "      <th>2</th>\n",
       "      <td>2018-02-03</td>\n",
       "      <td>8852.120117</td>\n",
       "      <td>9430.750000</td>\n",
       "      <td>8251.629883</td>\n",
       "      <td>9174.910156</td>\n",
       "      <td>7263790080</td>\n",
       "      <td>8830.750000</td>\n",
       "      <td>9170.540039</td>\n",
       "      <td>10221.099609</td>\n",
       "      <td>10106.299805</td>\n",
       "      <td>...</td>\n",
       "      <td>12952.200195</td>\n",
       "      <td>14656.200195</td>\n",
       "      <td>14606.500000</td>\n",
       "      <td>10585.923227</td>\n",
       "      <td>11212.833426</td>\n",
       "      <td>19.841927</td>\n",
       "      <td>24.753498</td>\n",
       "      <td>8.251166</td>\n",
       "      <td>40</td>\n",
       "      <td>1</td>\n",
       "    </tr>\n",
       "    <tr>\n",
       "      <th>3</th>\n",
       "      <td>2018-02-04</td>\n",
       "      <td>9175.700195</td>\n",
       "      <td>9334.870117</td>\n",
       "      <td>8031.220215</td>\n",
       "      <td>8277.009766</td>\n",
       "      <td>7073549824</td>\n",
       "      <td>9174.910156</td>\n",
       "      <td>8830.750000</td>\n",
       "      <td>9170.540039</td>\n",
       "      <td>10221.099609</td>\n",
       "      <td>...</td>\n",
       "      <td>14156.400391</td>\n",
       "      <td>12952.200195</td>\n",
       "      <td>14656.200195</td>\n",
       "      <td>10381.739333</td>\n",
       "      <td>10951.167225</td>\n",
       "      <td>21.756806</td>\n",
       "      <td>0.000000</td>\n",
       "      <td>8.251166</td>\n",
       "      <td>24</td>\n",
       "      <td>2</td>\n",
       "    </tr>\n",
       "    <tr>\n",
       "      <th>4</th>\n",
       "      <td>2018-02-05</td>\n",
       "      <td>8270.540039</td>\n",
       "      <td>8364.839844</td>\n",
       "      <td>6756.680176</td>\n",
       "      <td>6955.270020</td>\n",
       "      <td>9285289984</td>\n",
       "      <td>8277.009766</td>\n",
       "      <td>9174.910156</td>\n",
       "      <td>8830.750000</td>\n",
       "      <td>9170.540039</td>\n",
       "      <td>...</td>\n",
       "      <td>13657.200195</td>\n",
       "      <td>14156.400391</td>\n",
       "      <td>12952.200195</td>\n",
       "      <td>10080.729304</td>\n",
       "      <td>10624.284854</td>\n",
       "      <td>13.423829</td>\n",
       "      <td>0.000000</td>\n",
       "      <td>8.251166</td>\n",
       "      <td>11</td>\n",
       "      <td>2</td>\n",
       "    </tr>\n",
       "  </tbody>\n",
       "</table>\n",
       "<p>5 rows × 50 columns</p>\n",
       "</div>"
      ],
      "text/plain": [
       "         Date          Open          High          Low        Close  \\\n",
       "0  2018-02-01  10237.299805  10288.799805  8812.280273  9170.540039   \n",
       "1  2018-02-02   9142.280273   9142.280273  7796.490234  8830.750000   \n",
       "2  2018-02-03   8852.120117   9430.750000  8251.629883  9174.910156   \n",
       "3  2018-02-04   9175.700195   9334.870117  8031.220215  8277.009766   \n",
       "4  2018-02-05   8270.540039   8364.839844  6756.680176  6955.270020   \n",
       "\n",
       "        Volume     Close + 1     Close + 2     Close + 3     Close + 4  ...  \\\n",
       "0   9959400448  10221.099609  10106.299805  11296.400391  11786.299805  ...   \n",
       "1  12726899712   9170.540039  10221.099609  10106.299805  11296.400391  ...   \n",
       "2   7263790080   8830.750000   9170.540039  10221.099609  10106.299805  ...   \n",
       "3   7073549824   9174.910156   8830.750000   9170.540039  10221.099609  ...   \n",
       "4   9285289984   8277.009766   9174.910156   8830.750000   9170.540039  ...   \n",
       "\n",
       "     Close + 35    Close + 36    Close + 37         MA_13         MA_21  \\\n",
       "0  14606.500000  15838.500000  16099.799805  11085.433969  11704.982933   \n",
       "1  14656.200195  14606.500000  15838.500000  10772.476262  11459.752000   \n",
       "2  12952.200195  14656.200195  14606.500000  10585.923227  11212.833426   \n",
       "3  14156.400391  12952.200195  14656.200195  10381.739333  10951.167225   \n",
       "4  13657.200195  14156.400391  12952.200195  10080.729304  10624.284854   \n",
       "\n",
       "       RSI_3         %K        %D  value  value_classification  \n",
       "0   4.873774   0.000000  2.277774     30                     1  \n",
       "1   7.627137   0.000000  2.277774     15                     2  \n",
       "2  19.841927  24.753498  8.251166     40                     1  \n",
       "3  21.756806   0.000000  8.251166     24                     2  \n",
       "4  13.423829   0.000000  8.251166     11                     2  \n",
       "\n",
       "[5 rows x 50 columns]"
      ]
     },
     "execution_count": 23,
     "metadata": {},
     "output_type": "execute_result"
    }
   ],
   "source": [
    "joined_data.head()"
   ]
  },
  {
   "cell_type": "markdown",
   "metadata": {},
   "source": [
    "# Rearranging columns"
   ]
  },
  {
   "cell_type": "code",
   "execution_count": 24,
   "metadata": {},
   "outputs": [
    {
     "data": {
      "text/plain": [
       "Index(['Date', 'Open', 'High', 'Low', 'Close', 'Volume', 'Close + 1',\n",
       "       'Close + 2', 'Close + 3', 'Close + 4', 'Close + 5', 'Close + 6',\n",
       "       'Close + 7', 'Close + 8', 'Close + 9', 'Close + 10', 'Close + 11',\n",
       "       'Close + 12', 'Close + 13', 'Close + 14', 'Close + 15', 'Close + 16',\n",
       "       'Close + 17', 'Close + 18', 'Close + 19', 'Close + 20', 'Close + 21',\n",
       "       'Close + 22', 'Close + 23', 'Close + 24', 'Close + 25', 'Close + 26',\n",
       "       'Close + 27', 'Close + 28', 'Close + 29', 'Close + 30', 'Close + 31',\n",
       "       'Close + 32', 'Close + 33', 'Close + 34', 'Close + 35', 'Close + 36',\n",
       "       'Close + 37', 'MA_13', 'MA_21', 'RSI_3', '%K', '%D', 'value',\n",
       "       'value_classification'],\n",
       "      dtype='object')"
      ]
     },
     "execution_count": 24,
     "metadata": {},
     "output_type": "execute_result"
    }
   ],
   "source": [
    "joined_data.keys()"
   ]
  },
  {
   "cell_type": "code",
   "execution_count": 25,
   "metadata": {},
   "outputs": [],
   "source": [
    "joined_data = joined_data[['Date', 'Open', 'High', 'Low', 'Volume', 'Close + 7', 'Close + 8',\n",
    "       'Close + 9', 'Close + 10', 'Close + 11', 'Close + 12', 'Close + 13',\n",
    "       'Close + 14', 'Close + 15', 'Close + 16', 'Close + 17', 'Close + 18',\n",
    "       'Close + 19', 'Close + 20', 'Close + 21', 'Close + 22', 'Close + 23',\n",
    "       'Close + 24', 'Close + 25', 'Close + 26', 'Close + 27', 'Close + 28',\n",
    "       'Close + 29', 'Close + 30', 'Close + 31', 'Close + 32', 'Close + 33',\n",
    "       'Close + 34', 'Close + 35', 'Close + 36', 'Close + 37', 'MA_13',\n",
    "       'MA_21', 'RSI_3', '%K', '%D', 'value',\n",
    "       'value_classification', 'Close + 6', 'Close + 5', 'Close + 4',\n",
    "       'Close + 3', 'Close + 2', 'Close + 1', 'Close']]"
   ]
  },
  {
   "cell_type": "markdown",
   "metadata": {},
   "source": [
    "# Exporting"
   ]
  },
  {
   "cell_type": "code",
   "execution_count": 26,
   "metadata": {},
   "outputs": [],
   "source": [
    "joined_data.to_csv('../data/dataset.csv', index=False)"
   ]
  }
 ],
 "metadata": {
  "kernelspec": {
   "display_name": "machine_learning",
   "language": "python",
   "name": "python3"
  },
  "language_info": {
   "codemirror_mode": {
    "name": "ipython",
    "version": 3
   },
   "file_extension": ".py",
   "mimetype": "text/x-python",
   "name": "python",
   "nbconvert_exporter": "python",
   "pygments_lexer": "ipython3",
   "version": "3.12.3"
  }
 },
 "nbformat": 4,
 "nbformat_minor": 2
}
